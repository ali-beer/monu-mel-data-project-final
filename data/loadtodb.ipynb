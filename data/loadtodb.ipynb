{
 "cells": [
  {
   "cell_type": "code",
   "execution_count": 1,
   "metadata": {},
   "outputs": [
    {
     "name": "stderr",
     "output_type": "stream",
     "text": [
      "/home/suisuss/.local/lib/python3.8/site-packages/pandas/core/generic.py:2605: UserWarning: The spaces in these column names will not be changed. In pandas versions < 0.14, spaces were converted to underscores.\n",
      "  sql.to_sql(\n"
     ]
    }
   ],
   "source": [
    "import pandas\n",
    "import sqlite3\n",
    "\n",
    "conn = sqlite3.connect(\"../flaskapp/site.db\")\n",
    "\n",
    "csvfiles = {\n",
    "    'g44': 'g44.csv',\n",
    "    'g45': 'g45.csv',\n",
    "    'communication': 'AEDC/communication.csv',\n",
    "    'emotional': 'AEDC/emotional.csv',\n",
    "    'health': 'AEDC/health.csv',\n",
    "    'social': 'AEDC/social.csv',\n",
    "    'language': 'AEDC/language.csv',\n",
    "    'oneormore': 'AEDC/oneormore.csv',\n",
    "    'twoormore': 'AEDC/twoormore.csv'\n",
    "}\n",
    "\n",
    "\n",
    "for key in list(csvfiles.keys()):\n",
    "    df = pandas.read_csv(csvfiles[key])\n",
    "    df.to_sql(f'{key}', conn, if_exists='append', index=False)"
   ]
  },
  {
   "cell_type": "code",
   "execution_count": null,
   "metadata": {},
   "outputs": [],
   "source": []
  }
 ],
 "metadata": {
  "kernelspec": {
   "display_name": "Python 3",
   "language": "python",
   "name": "python3"
  },
  "language_info": {
   "codemirror_mode": {
    "name": "ipython",
    "version": 3
   },
   "file_extension": ".py",
   "mimetype": "text/x-python",
   "name": "python",
   "nbconvert_exporter": "python",
   "pygments_lexer": "ipython3",
   "version": "3.8.5"
  }
 },
 "nbformat": 4,
 "nbformat_minor": 4
}
