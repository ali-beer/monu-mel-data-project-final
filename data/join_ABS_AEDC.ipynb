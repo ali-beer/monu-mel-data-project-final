{
 "cells": [
  {
   "cell_type": "code",
   "execution_count": 40,
   "metadata": {},
   "outputs": [],
   "source": [
    "import pandas as pd\n",
    "\n",
    "abs_df = pd.read_csv('ABS/clean_2016_abs.csv')\n",
    "\n",
    "abs_code_series = abs_df['SA2_MAINCODE_2016'].apply(str)\n",
    "keep_last_four = lambda x: x[-5:]\n",
    "abs_code_series = abs_code_series.apply(keep_last_four)\n",
    "abs_df['code'] = abs_code_series\n",
    "\n",
    "aedc_files = ['AEDC/oneormore.csv', 'AEDC/twoormore.csv', 'AEDC/emotional.csv', 'AEDC/health.csv', 'AEDC/language.csv', 'AEDC/social.csv', 'AEDC/communication.csv']\n"
   ]
  },
  {
   "cell_type": "code",
   "execution_count": 41,
   "metadata": {},
   "outputs": [],
   "source": [
    "\n",
    "for file in aedc_files:\n",
    "    aedc_df = pd.read_csv(file)\n",
    "    \n",
    "    merged_df = pd.merge(abs_df, one_or_more_aedc_df, on='code', how='inner')\n",
    "    \n",
    "    merged_df.to_csv(file[5:-4] + '_abs_merged.csv')"
   ]
  },
  {
   "cell_type": "code",
   "execution_count": null,
   "metadata": {},
   "outputs": [],
   "source": []
  },
  {
   "cell_type": "code",
   "execution_count": null,
   "metadata": {},
   "outputs": [],
   "source": []
  }
 ],
 "metadata": {
  "kernelspec": {
   "display_name": "Python 3",
   "language": "python",
   "name": "python3"
  },
  "language_info": {
   "codemirror_mode": {
    "name": "ipython",
    "version": 3
   },
   "file_extension": ".py",
   "mimetype": "text/x-python",
   "name": "python",
   "nbconvert_exporter": "python",
   "pygments_lexer": "ipython3",
   "version": "3.8.5"
  }
 },
 "nbformat": 4,
 "nbformat_minor": 4
}
