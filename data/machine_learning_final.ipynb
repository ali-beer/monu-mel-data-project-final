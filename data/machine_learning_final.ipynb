{
 "cells": [
  {
   "cell_type": "code",
   "execution_count": 15,
   "metadata": {},
   "outputs": [],
   "source": [
    "from sklearn import tree\n",
    "import pandas as pd\n",
    "import os\n",
    "from sklearn.model_selection import train_test_split\n",
    "from sklearn.ensemble import RandomForestRegressor\n",
    "from sklearn.preprocessing import StandardScaler\n",
    "from sklearn.metrics import mean_absolute_percentage_error"
   ]
  },
  {
   "cell_type": "code",
   "execution_count": 20,
   "metadata": {},
   "outputs": [
    {
     "name": "stdout",
     "output_type": "stream",
     "text": [
      "{'emotional_abs_merged.csv': [0.4832455187278147], 'social_abs_merged.csv': [0.48673079459286317], 'health_abs_merged.csv': [240366538251518.78], 'language_abs_merged.csv': [637835389085728.9], 'communication_abs_merged.csv': [1413397138868950.2]}\n"
     ]
    }
   ],
   "source": [
    "csvfiles = [\"emotional_abs_merged.csv\", \"social_abs_merged.csv\", \"health_abs_merged.csv\", \"language_abs_merged.csv\", \"communication_abs_merged.csv\"]\n",
    "\n",
    "error = list()\n",
    "feature_importance = list()\n",
    "\n",
    "for file in csvfiles:\n",
    "    df = pd.read_csv(os.path.join(\"merged\", file))\n",
    "    # Prepare data\n",
    "    sample_df = df.drop(columns = [\"Unnamed: 0\", \"SA2_MAINCODE_2016\", \"name\", \"SA2_name\", \n",
    "                              \"total\", \"at_risk\", \"on_track\", \"vulnerable_percentage\",\n",
    "                              \"Index of Relative Socio-economic Disadvantage_decile\",\n",
    "                              \"Index of Relative Socio-economic Adv and Disadv_decile\",\n",
    "                              \"Index of Economic Resources_decile\",\n",
    "                              \"Index of Education and Occupation_decile\"\n",
    "                               ])\n",
    "    target = sample_df[\"vulnerable\"]\n",
    "    data = sample_df.drop(\"vulnerable\", axis=1)\n",
    "    feature_names = data.columns\n",
    "    \n",
    "    # Split data\n",
    "    X_train, X_test, y_train, y_test = train_test_split(data, target, test_size=0.20, random_state=42)\n",
    "    \n",
    "    #Scale data\n",
    "    X_train_df = X_train.drop(columns=[\"code\"])\n",
    "    X_test_df = X_test.drop(columns=[\"code\"])\n",
    "\n",
    "    X_scaler = StandardScaler().fit(X_train_df)\n",
    "\n",
    "    X_train_scaled = X_scaler.transform(X_train_df)\n",
    "    X_test_scaled = X_scaler.transform(X_test_df)\n",
    "    \n",
    "    # Create model\n",
    "    rf = RandomForestRegressor(n_estimators=100)\n",
    "    rf = rf.fit(X_train_scaled, y_train)\n",
    "    \n",
    "    predict_values = rf.predict(X_test_scaled)\n",
    "    \n",
    "    output_df = pd.DataFrame(y_test)\n",
    "    output_df[\"code\"] = X_test[\"code\"]\n",
    "    output_df[\"predicted\"] = predict_values\n",
    "    output_df[\"percent_vulnerable\"] = (output_df[\"vulnerable\"] / X_test[\"Usual Resident Population\"]) * 100\n",
    "    \n",
    "    output_df.to_csv(\"predictions/\" + file[:-4] + \"_predictions.csv\", index=False)\n",
    "    \n",
    "    # Error\n",
    "    error.append([mean_absolute_percentage_error(y_test, predict_values)])\n",
    "    \n",
    "    # Feature Importance\n",
    "    feature_importance.append([sorted(zip(rf.feature_importances_, feature_names), reverse=True)])\n",
    "\n",
    "\n",
    "    \n",
    "\n",
    "error = dict(zip(csvfiles, error))\n",
    "print(error)\n",
    "feature_importance = dict(zip(csvfiles, feature_importance))\n",
    "\n",
    "error_df = pd.DataFrame.from_dict(error)\n",
    "feature_importance_df = pd.DataFrame.from_dict(feature_importance)\n",
    "\n",
    "error_df.to_csv(\"predictions/ml_error.csv\")\n",
    "feature_importance_df.to_csv(\"predictions/ml_feature_importance.csv\")\n",
    "\n",
    "\n",
    "    \n",
    "    "
   ]
  },
  {
   "cell_type": "code",
   "execution_count": null,
   "metadata": {},
   "outputs": [],
   "source": []
  }
 ],
 "metadata": {
  "kernelspec": {
   "display_name": "Python 3",
   "language": "python",
   "name": "python3"
  },
  "language_info": {
   "codemirror_mode": {
    "name": "ipython",
    "version": 3
   },
   "file_extension": ".py",
   "mimetype": "text/x-python",
   "name": "python",
   "nbconvert_exporter": "python",
   "pygments_lexer": "ipython3",
   "version": "3.8.5"
  }
 },
 "nbformat": 4,
 "nbformat_minor": 4
}
